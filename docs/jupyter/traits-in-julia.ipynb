{
 "cells": [
  {
   "cell_type": "markdown",
   "metadata": {
    "slideshow": {
     "slide_type": "slide"
    }
   },
   "source": [
    "<center>\n",
    "    <img src=\"./share&code.png\" width=\"50%\" height=\"50%\">\n",
    "</center>\n",
    "\n",
    "# Traits in Julia and WhereTraits.jl\n",
    "\n",
    "my name is Stephan Sahm, s.sahm@reply.de, author of WhereTraits.jl"
   ]
  },
  {
   "cell_type": "markdown",
   "metadata": {
    "slideshow": {
     "slide_type": "slide"
    }
   },
   "source": [
    "# Why Traits?\n",
    "\n",
    "**TLDR:** Julia's type system has no multiple inheritance. There is only one taxonomy.\n",
    "\n",
    "But sometimes we want to dispatch on other dimensions.\n",
    "\n",
    "<center>\n",
    "    <img src=\"https://images.unsplash.com/photo-1580604056714-13f7e75d4c84?ixlib=rb-1.2.1&ixid=MXwxMjA3fDB8MHxwaG90by1wYWdlfHx8fGVufDB8fHw%3D&auto=format&fit=crop&w=2250&q=80\" width=\"80%\" height=\"50%\">\n",
    "</center>"
   ]
  },
  {
   "cell_type": "markdown",
   "metadata": {
    "slideshow": {
     "slide_type": "subslide"
    }
   },
   "source": [
    "Example Taxonomy"
   ]
  },
  {
   "cell_type": "code",
   "execution_count": 1,
   "metadata": {},
   "outputs": [],
   "source": [
    "abstract type Animal end\n",
    "abstract type Mammal <: Animal end\n",
    "\n",
    "struct Whale <: Mammal\n",
    "    name\n",
    "end\n",
    "\n",
    "struct CyanoBacteria <: Animal\n",
    "    name\n",
    "end"
   ]
  },
  {
   "cell_type": "code",
   "execution_count": 2,
   "metadata": {
    "slideshow": {
     "slide_type": "fragment"
    }
   },
   "outputs": [
    {
     "data": {
      "text/plain": [
       "(\"Moby-Dick\", \"Pantoffel\")"
      ]
     },
     "execution_count": 2,
     "metadata": {},
     "output_type": "execute_result"
    }
   ],
   "source": [
    "name(animal::Animal) = animal.name\n",
    "\n",
    "moby = Whale(\"Moby-Dick\")\n",
    "pantoffel = CyanoBacteria(\"Pantoffel\")\n",
    "\n",
    "name(moby), name(pantoffel)"
   ]
  },
  {
   "cell_type": "markdown",
   "metadata": {
    "slideshow": {
     "slide_type": "slide"
    }
   },
   "source": [
    "# Pure Julia Traits\n",
    "\n",
    "You just need 2 ingredients"
   ]
  },
  {
   "cell_type": "markdown",
   "metadata": {
    "slideshow": {
     "slide_type": "fragment"
    }
   },
   "source": [
    "1) define a parallel taxonomy"
   ]
  },
  {
   "cell_type": "code",
   "execution_count": 3,
   "metadata": {},
   "outputs": [
    {
     "data": {
      "text/plain": [
       "Walking()"
      ]
     },
     "execution_count": 3,
     "metadata": {},
     "output_type": "execute_result"
    }
   ],
   "source": [
    "abstract type Locomotion end\n",
    "struct Swimming <: Locomotion end\n",
    "struct Walking <: Locomotion end\n",
    "\n",
    "const swimming = Swimming()\n",
    "const walking = Walking()"
   ]
  },
  {
   "cell_type": "markdown",
   "metadata": {
    "slideshow": {
     "slide_type": "fragment"
    }
   },
   "source": [
    "2) defining a mapping from the one taxonomy to the other"
   ]
  },
  {
   "cell_type": "code",
   "execution_count": 4,
   "metadata": {
    "slideshow": {
     "slide_type": "-"
    }
   },
   "outputs": [
    {
     "data": {
      "text/plain": [
       "Locomotion"
      ]
     },
     "execution_count": 4,
     "metadata": {},
     "output_type": "execute_result"
    }
   ],
   "source": [
    "Locomotion(::Whale) = swimming\n",
    "Locomotion(::CyanoBacteria) = swimming"
   ]
  },
  {
   "cell_type": "markdown",
   "metadata": {
    "slideshow": {
     "slide_type": "subslide"
    }
   },
   "source": [
    "Now you can dispatch on the orthogonal taxonomy (aka traits)"
   ]
  },
  {
   "cell_type": "code",
   "execution_count": 21,
   "metadata": {},
   "outputs": [
    {
     "data": {
      "text/plain": [
       "move (generic function with 3 methods)"
      ]
     },
     "execution_count": 21,
     "metadata": {},
     "output_type": "execute_result"
    }
   ],
   "source": [
    "move(animal::Animal) = move(Locomotion(animal), animal)"
   ]
  },
  {
   "cell_type": "code",
   "execution_count": 22,
   "metadata": {},
   "outputs": [
    {
     "data": {
      "text/plain": [
       "move (generic function with 5 methods)"
      ]
     },
     "execution_count": 22,
     "metadata": {},
     "output_type": "execute_result"
    }
   ],
   "source": [
    "move(::Swimming, animal) = \"Just keep swimming $(name(animal))!\"\n",
    "move(::Walking, animal) = \"Run $(name(animal)) run!\""
   ]
  },
  {
   "cell_type": "code",
   "execution_count": 23,
   "metadata": {},
   "outputs": [
    {
     "data": {
      "text/plain": [
       "\"Just keep swimming Pantoffel!\""
      ]
     },
     "execution_count": 23,
     "metadata": {},
     "output_type": "execute_result"
    }
   ],
   "source": [
    "move(pantoffel)"
   ]
  },
  {
   "cell_type": "markdown",
   "metadata": {
    "slideshow": {
     "slide_type": "subslide"
    }
   },
   "source": [
    "Alternatively you could split the taxonomy into several, by just having binary traits."
   ]
  },
  {
   "cell_type": "code",
   "execution_count": 24,
   "metadata": {},
   "outputs": [
    {
     "data": {
      "text/plain": [
       "canwalk (generic function with 2 methods)"
      ]
     },
     "execution_count": 24,
     "metadata": {},
     "output_type": "execute_result"
    }
   ],
   "source": [
    "canswim(::Whale) = true\n",
    "canswim(::CyanoBacteria) = true\n",
    "\n",
    "canwalk(::Whale) = false\n",
    "canwalk(::CyanoBacteria) = false"
   ]
  },
  {
   "cell_type": "markdown",
   "metadata": {},
   "source": [
    "The dispatch looks slightly more complex, because Julia `true`/`false` need to be wrapped into `Val` to be ready for dispatch."
   ]
  },
  {
   "cell_type": "code",
   "execution_count": 29,
   "metadata": {},
   "outputs": [
    {
     "data": {
      "text/plain": [
       "move2 (generic function with 5 methods)"
      ]
     },
     "execution_count": 29,
     "metadata": {},
     "output_type": "execute_result"
    }
   ],
   "source": [
    "move2(animal::Animal) = move2(animal, Val(canswim(animal)), Val(canwalk(animal)))\n",
    "move2(animal, _swim::Val{true}, _walk::Val{true}) = \"First walk, then swim.\"\n",
    "move2(animal, _swim::Val{true}, _walk::Val{false}) = \"Swim\"\n",
    "move2(animal, _swim::Val{false}, _walk::Val{true}) = \"Walk\"\n",
    "move2(animal, _swim::Val{false}, _walk::Val{false}) = \"just stand around\""
   ]
  },
  {
   "cell_type": "code",
   "execution_count": 31,
   "metadata": {},
   "outputs": [
    {
     "data": {
      "text/plain": [
       "\"Swim\""
      ]
     },
     "execution_count": 31,
     "metadata": {},
     "output_type": "execute_result"
    }
   ],
   "source": [
    "move2(moby)"
   ]
  },
  {
   "cell_type": "markdown",
   "metadata": {
    "slideshow": {
     "slide_type": "subslide"
    }
   },
   "source": [
    "Natural Error support"
   ]
  },
  {
   "cell_type": "code",
   "execution_count": 32,
   "metadata": {},
   "outputs": [
    {
     "data": {
      "text/plain": [
       "Cat(\"Kitty\")"
      ]
     },
     "execution_count": 32,
     "metadata": {},
     "output_type": "execute_result"
    }
   ],
   "source": [
    "struct Cat <: Mammal\n",
    "    name\n",
    "end\n",
    "kitty = Cat(\"Kitty\")"
   ]
  },
  {
   "cell_type": "code",
   "execution_count": 33,
   "metadata": {},
   "outputs": [
    {
     "ename": "LoadError",
     "evalue": "MethodError: no method matching Locomotion(::Cat)\nClosest candidates are:\n  Locomotion(!Matched::Whale) at In[4]:1\n  Locomotion(!Matched::CyanoBacteria) at In[4]:2\n  Locomotion(!Matched::Type{Mammal}) at In[18]:1",
     "output_type": "error",
     "traceback": [
      "MethodError: no method matching Locomotion(::Cat)\nClosest candidates are:\n  Locomotion(!Matched::Whale) at In[4]:1\n  Locomotion(!Matched::CyanoBacteria) at In[4]:2\n  Locomotion(!Matched::Type{Mammal}) at In[18]:1",
      "",
      "Stacktrace:",
      " [1] move(::Cat) at ./In[21]:1",
      " [2] top-level scope at In[33]:1",
      " [3] include_string(::Function, ::Module, ::String, ::String) at ./loading.jl:1091"
     ]
    }
   ],
   "source": [
    "move(kitty)"
   ]
  },
  {
   "cell_type": "code",
   "execution_count": 13,
   "metadata": {},
   "outputs": [
    {
     "ename": "LoadError",
     "evalue": "MethodError: no method matching canswim(::Cat)\nClosest candidates are:\n  canswim(!Matched::CyanoBacteria) at In[8]:2\n  canswim(!Matched::Whale) at In[8]:1",
     "output_type": "error",
     "traceback": [
      "MethodError: no method matching canswim(::Cat)\nClosest candidates are:\n  canswim(!Matched::CyanoBacteria) at In[8]:2\n  canswim(!Matched::Whale) at In[8]:1",
      "",
      "Stacktrace:",
      " [1] move2(::Cat) at ./In[9]:1",
      " [2] top-level scope at In[13]:1",
      " [3] include_string(::Function, ::Module, ::String, ::String) at ./loading.jl:1091"
     ]
    }
   ],
   "source": [
    "move2(kitty)"
   ]
  },
  {
   "cell_type": "markdown",
   "metadata": {
    "slideshow": {
     "slide_type": "slide"
    }
   },
   "source": [
    "Most typical application of traits:\n",
    "1. built functions for general interfaces (e.g. iterables)\n",
    "2. specialize these functions further for subcases"
   ]
  },
  {
   "cell_type": "markdown",
   "metadata": {
    "slideshow": {
     "slide_type": "slide"
    }
   },
   "source": [
    "# WhereTraits.jl\n",
    "\n",
    "- intuitive syntax for pure julia traits, merging both levels\n",
    "- easily extendable"
   ]
  },
  {
   "cell_type": "code",
   "execution_count": 14,
   "metadata": {
    "slideshow": {
     "slide_type": "fragment"
    }
   },
   "outputs": [],
   "source": [
    "using WhereTraits"
   ]
  },
  {
   "cell_type": "code",
   "execution_count": 46,
   "metadata": {
    "slideshow": {
     "slide_type": "fragment"
    }
   },
   "outputs": [],
   "source": [
    "@traits function move3(animal::Animal) where {canswim(animal)}\n",
    "    error(\"my inner error\")\n",
    "    return \"take the flow\"    \n",
    "end\n",
    "@traits move3(animal::Animal, args...) where {canwalk(args...)} = \"step by step\"\n",
    "@traits move3(animal::Animal) where {canswim(animal), canwalk(animal)} = \"first swim then walk\"\n",
    "@traits move3(animal::Animal) = \"fallback\""
   ]
  },
  {
   "cell_type": "code",
   "execution_count": 38,
   "metadata": {
    "slideshow": {
     "slide_type": "fragment"
    }
   },
   "outputs": [
    {
     "data": {
      "text/plain": [
       "\"take the flow\""
      ]
     },
     "execution_count": 38,
     "metadata": {},
     "output_type": "execute_result"
    }
   ],
   "source": [
    "move3(pantoffel)"
   ]
  },
  {
   "cell_type": "code",
   "execution_count": 48,
   "metadata": {
    "slideshow": {
     "slide_type": "fragment"
    }
   },
   "outputs": [
    {
     "ename": "LoadError",
     "evalue": "my inner error",
     "output_type": "error",
     "traceback": [
      "my inner error",
      "",
      "Stacktrace:",
      " [1] error(::String) at ./error.jl:33",
      " [2] move3(::WhereTraits.InternalState.TraitsDefSingleton, ::Type{Tuple{WhereTraits.Syntax.Parsing._BetweenCurliesAndArgs,Animal}}, ::Whale, ::WhereTraits.InternalState.ArgsHelpers_BetweenArgsAndTypeVars, ::Type{T} where T, ::WhereTraits.InternalState.ArgsHelpers_BetweenTypeVarsAndTraits, ::Val{true}, ::Val{false}) at ./In[46]:2",
      " [3] move3(::Whale; kwargs::Base.Iterators.Pairs{Union{},Union{},Tuple{},NamedTuple{(),Tuple{}}}) at ./In[15]:2",
      " [4] move3(::Whale) at ./In[15]:2",
      " [5] top-level scope at In[48]:3",
      " [6] include_string(::Function, ::Module, ::String, ::String) at ./loading.jl:1091"
     ]
    }
   ],
   "source": [
    "canswim(::Whale) = true\n",
    "canwalk(::Whale) = false\n",
    "move3(moby)"
   ]
  }
 ],
 "metadata": {
  "@webio": {
   "lastCommId": null,
   "lastKernelId": null
  },
  "celltoolbar": "Slideshow",
  "kernelspec": {
   "display_name": "julia 1.5.1",
   "language": "julia",
   "name": "julia-1.5"
  },
  "language_info": {
   "file_extension": ".jl",
   "mimetype": "application/julia",
   "name": "julia",
   "version": "1.5.3"
  }
 },
 "nbformat": 4,
 "nbformat_minor": 2
}
